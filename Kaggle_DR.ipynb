{
 "cells": [
  {
   "cell_type": "markdown",
   "metadata": {},
   "source": [
    "<h1> Digit Recognizer using Convolution Neural Network </h1>\n"
   ]
  },
  {
   "cell_type": "markdown",
   "metadata": {},
   "source": [
    "From Kaggle competition"
   ]
  },
  {
   "cell_type": "markdown",
   "metadata": {},
   "source": [
    "We will start import the module as per normal"
   ]
  },
  {
   "cell_type": "code",
   "execution_count": 2,
   "metadata": {},
   "outputs": [],
   "source": [
    "from __future__ import print_function\n",
    "import pandas as pd\n",
    "import imageio\n",
    "import matplotlib.pyplot as plt\n",
    "import numpy as np\n",
    "import pandas as pd\n",
    "import os\n",
    "import sys\n",
    "import tarfile\n",
    "from IPython.display import display, Image\n",
    "from sklearn.linear_model import LogisticRegression"
   ]
  },
  {
   "cell_type": "markdown",
   "metadata": {},
   "source": [
    "Next, we will load the given data get from kaggle website"
   ]
  },
  {
   "cell_type": "code",
   "execution_count": 3,
   "metadata": {},
   "outputs": [
    {
     "name": "stdout",
     "output_type": "stream",
     "text": [
      "Training data set (33600, 784) - (33600, 10)\n",
      "Validation data set (8400, 784) - (8400, 10)\n",
      "Test data set (28000, 784) \n"
     ]
    }
   ],
   "source": [
    "from sklearn.model_selection import train_test_split\n",
    "def onehotEncode(labels):\n",
    "    return (np.arange(10) == labels[:,None]).astype(np.float32)\n",
    "\n",
    "def loadData(train,test,train_valid_ratio=0.2):\n",
    "    _data = pd.read_csv(train)\n",
    "    _test = pd.read_csv(test)\n",
    "    _data_dt = _data.drop('label',axis=1).values\n",
    "    #_test_dt = _test.drop('label',axis=1).values\n",
    "    _test_dt = _test.values\n",
    "    _data_lb = _data['label'].values\n",
    "    #_test_lb = _test['label'].values\n",
    "    _data_lb = onehotEncode(_data_lb)\n",
    "    #_test_lb = reformat(_test_lb)\n",
    "    train_dt, valid_dt, train_lb, valid_lb \\\n",
    "    = train_test_split(_data_dt, _data_lb, test_size = train_valid_ratio, random_state=42)\n",
    "    return train_dt, train_lb, valid_dt, valid_lb, _test_dt\n",
    "\n",
    "tr_x, tr_y, v_x, v_y, ts = loadData(\"train.csv\",\"test.csv\")\n",
    "print(\"Training data set {} - {}\".format(tr_x.shape,tr_y.shape))\n",
    "print(\"Validation data set {} - {}\".format(v_x.shape,v_y.shape))\n",
    "print(\"Test data set {} \".format(ts.shape))"
   ]
  },
  {
   "cell_type": "markdown",
   "metadata": {},
   "source": [
    "We will try to visualize one of the given data."
   ]
  },
  {
   "cell_type": "code",
   "execution_count": 4,
   "metadata": {},
   "outputs": [
    {
     "data": {
      "image/png": "[encoded data removed]",
      "text/plain": [
       "<Figure size 1152x432 with 4 Axes>"
      ]
     },
     "metadata": {
      "needs_background": "light"
     },
     "output_type": "display_data"
    }
   ],
   "source": [
    "randomRow = np.random.randint(len(tr_x), size=4)\n",
    "to_visualize = tr_x[randomRow,:]\n",
    "imgList = []\n",
    "plt.figure(figsize=[16,6])\n",
    "for n,img in enumerate(to_visualize):\n",
    "    plt.subplot(1,4,n+1)\n",
    "    plt.imshow(img.reshape(28,28))\n"
   ]
  },
  {
   "cell_type": "markdown",
   "metadata": {},
   "source": [
    "To train a convolutional neural network, we will need to reformat all data into 4-D tensor. Based on Udacity convolutional network."
   ]
  },
  {
   "cell_type": "code",
   "execution_count": 5,
   "metadata": {},
   "outputs": [
    {
     "name": "stdout",
     "output_type": "stream",
     "text": [
      "Training data set (33600, 28, 28, 1) - (33600, 10)\n",
      "Validation data set (8400, 28, 28, 1) - (8400, 10)\n",
      "Test data set (28000, 28, 28, 1) \n"
     ]
    }
   ],
   "source": [
    "image_size = 28\n",
    "num_labels = 10\n",
    "num_channels = 1\n",
    "\n",
    "def reformat(dataset):\n",
    "  dataset = dataset.reshape(\n",
    "    (-1, image_size, image_size, num_channels)).astype(np.float32)\n",
    "  return dataset\n",
    "\n",
    "def accuracy(predictions, labels):\n",
    "  return (100.0 * np.sum(np.argmax(predictions, 1) == np.argmax(labels, 1))\n",
    "          / predictions.shape[0])\n",
    "\n",
    "def normalized(data):\n",
    "    normal = []\n",
    "    for jj in range(len(data)):\n",
    "        normal.append([(x-128.)/128 for x in data[jj]])\n",
    "    return normal\n",
    "\n",
    "normal_tr_x = np.array(normalized(tr_x))\n",
    "normal_v_x = np.array(normalized(v_x))\n",
    "normal_ts = np.array(normalized(ts))\n",
    "\n",
    "train_data = reformat(normal_tr_x)\n",
    "train_label = tr_y\n",
    "valid_data = reformat(normal_v_x)\n",
    "valid_label = v_y\n",
    "test_data = reformat(normal_ts)\n",
    "print(\"Training data set {} - {}\".format(train_data.shape,train_label.shape))\n",
    "print(\"Validation data set {} - {}\".format(valid_data.shape,valid_label.shape))\n",
    "print(\"Test data set {} \".format(test_data.shape))"
   ]
  },
  {
   "cell_type": "code",
   "execution_count": 24,
   "metadata": {},
   "outputs": [
    {
     "name": "stdout",
     "output_type": "stream",
     "text": [
      "after 1st convo (16, 28, 28, 16)\n",
      "after 1st maxpool (16, 14, 14, 16)\n",
      "after 2nd convo (16, 14, 14, 64)\n",
      "after 2nd maxpool (16, 7, 7, 64)\n",
      "after reshape (16, 3136)\n",
      "after layer 3 (16, 64)\n",
      "output layer (16, 10)\n",
      "after 1st convo (8400, 28, 28, 16)\n",
      "after 1st maxpool (8400, 14, 14, 16)\n",
      "after 2nd convo (8400, 14, 14, 64)\n",
      "after 2nd maxpool (8400, 7, 7, 64)\n",
      "after reshape (8400, 3136)\n",
      "after layer 3 (8400, 64)\n",
      "output layer (8400, 10)\n",
      "after 1st convo (28000, 28, 28, 16)\n",
      "after 1st maxpool (28000, 14, 14, 16)\n",
      "after 2nd convo (28000, 14, 14, 64)\n",
      "after 2nd maxpool (28000, 7, 7, 64)\n",
      "after reshape (28000, 3136)\n",
      "after layer 3 (28000, 64)\n",
      "output layer (28000, 10)\n"
     ]
    }
   ],
   "source": [
    "import tensorflow as tf\n",
    "\n",
    "batch_size = 16\n",
    "patch_size = 5\n",
    "depth = 16\n",
    "depth2 = 64\n",
    "num_hidden = 64\n",
    "l3_dropout = 0.75\n",
    "depth2 = 64\n",
    "beta_1 = 1e-5\n",
    "beta_2 = 1e-5\n",
    "beta_3 = 1e-5\n",
    "beta_o = 1e-5\n",
    "\n",
    "\n",
    "graph = tf.Graph()\n",
    "\n",
    "with graph.as_default():\n",
    "\n",
    "  # Input data.\n",
    "  tf_train_dataset = tf.placeholder(\n",
    "    tf.float32, shape=(batch_size, image_size, image_size, num_channels))\n",
    "  tf_train_labels = tf.placeholder(tf.float32, shape=(batch_size, num_labels))\n",
    "  tf_valid_dataset = tf.constant(valid_data)\n",
    "  tf_test_dataset = tf.constant(test_data)\n",
    "  \n",
    "  #Another Way of Defining Variables\n",
    "  weights = { # 5x5 conv2, 1 input, 16 output\n",
    "              'l1_w' : tf.Variable(tf.truncated_normal([patch_size, patch_size, num_channels, depth],stddev=0.1)),\n",
    "              # 5x5 conv2, 16 input, 16 output\n",
    "              'l2_w' : tf.Variable(tf.truncated_normal([patch_size, patch_size, depth, depth2],stddev=0.1)),\n",
    "              # fully connected, 7*7*16 = 784 input, 64 output\n",
    "              'l3_w' : tf.Variable(tf.truncated_normal([image_size//4*image_size//4*depth2, num_hidden], stddev=0.1)),\n",
    "              # output layer, 64 input, 10 output (class prediction)\n",
    "              'o_w'  : tf.Variable(tf.truncated_normal([num_hidden, num_labels],stddev=0.1))}\n",
    "  \n",
    "  # shape of biases of each layer need to be the same as the output\n",
    "  biases = { 'l1_b' : tf.Variable(tf.zeros([depth])),\n",
    "             'l2_b' : tf.Variable(tf.constant(1.0, shape=[depth2])),\n",
    "             'l3_b' : tf.Variable(tf.constant(1.0, shape=[num_hidden])),\n",
    "             'o_b'  : tf.Variable(tf.constant(1.0, shape=[num_labels]))}\n",
    "\n",
    "  def conv2d(x, W, b, strideC = 2):\n",
    "    res = tf.nn.conv2d(x, W, [1,1,1,1],padding='SAME')\n",
    "    res = tf.nn.relu(tf.nn.bias_add(res,b))\n",
    "    return res\n",
    "\n",
    "  def maxpool2d(x, k=2):\n",
    "    res = tf.nn.max_pool(x, ksize=[1,k,k,1],strides=[1,k,k,1],padding='SAME')\n",
    "    return res\n",
    "  \n",
    "  def deep_convnet(x, weights, biases, dropout):\n",
    "    # First convolution layer (l1)\n",
    "    flow = conv2d(x,weights['l1_w'],biases['l1_b'])\n",
    "    print (\"after 1st convo\",flow.get_shape())\n",
    "    flow = maxpool2d(flow)\n",
    "    print (\"after 1st maxpool\",flow.get_shape())\n",
    "    \n",
    "    # Second convolution layer (l2)\n",
    "    flow = conv2d(flow,weights['l2_w'],biases['l2_b'])\n",
    "    print (\"after 2nd convo\",flow.get_shape())\n",
    "    flow = maxpool2d(flow)\n",
    "    print (\"after 2nd maxpool\",flow.get_shape())\n",
    "    \n",
    "    # Reshaping layer (l3)\n",
    "    shape = flow.get_shape().as_list()\n",
    "    flow = tf.reshape(flow, [shape[0], shape[1] * shape[2] * shape[3]])\n",
    "    print (\"after reshape\",flow.get_shape())\n",
    "    flow = tf.nn.bias_add(tf.matmul(flow, weights['l3_w']), biases['l3_b'])\n",
    "    flow = tf.nn.relu(flow)\n",
    "    # Apply Dropout\n",
    "    flow = tf.nn.dropout(flow,dropout)\n",
    "    print (\"after layer 3\",flow.get_shape())\n",
    "    \n",
    "    # Output Layer (o)\n",
    "    out = tf.nn.bias_add(tf.matmul(flow, weights['o_w']), biases['o_b'])\n",
    "    print (\"output layer\",out.get_shape())\n",
    "    return out \n",
    "    \n",
    "  # Training computation.\n",
    "  logits = deep_convnet(tf_train_dataset, weights, biases, l3_dropout)\n",
    "  loss = tf.reduce_mean(\n",
    "    tf.nn.softmax_cross_entropy_with_logits(labels=tf_train_labels, logits=logits))\n",
    "  \n",
    "  # Calculate the loss with regularization\n",
    "  \n",
    "  loss += beta_1 * tf.nn.l2_loss(weights['l1_w']) + \\\n",
    "    beta_2 * tf.nn.l2_loss(weights['l2_w']) + \\\n",
    "    beta_3 * tf.nn.l2_loss(weights['l3_w']) + \\\n",
    "    beta_o * tf.nn.l2_loss(weights['o_w'])\n",
    "  \n",
    "  \n",
    "  # Learn with exponential rate decay.\n",
    "  #global_step = tf.Variable(0, trainable=False)\n",
    "  #starter_learning_rate = 0.4\n",
    "  #learning_rate = tf.train.exponential_decay(starter_learning_rate, global_step, 100000, 0.96, staircase=True)\n",
    "  learning_rate = 0.00146\n",
    "  # Optimizer.\n",
    "  optimizer = tf.train.AdamOptimizer(learning_rate).minimize(loss)\n",
    "  \n",
    "  # Predictions for the training, validation, and test data.\n",
    "  train_prediction = tf.nn.softmax(logits)\n",
    "  valid_prediction = tf.nn.softmax(deep_convnet(tf_valid_dataset, weights, biases, l3_dropout))\n",
    "  test_prediction = tf.nn.softmax(deep_convnet(tf_test_dataset, weights, biases, l3_dropout))"
   ]
  },
  {
   "cell_type": "code",
   "execution_count": 32,
   "metadata": {},
   "outputs": [
    {
     "name": "stdout",
     "output_type": "stream",
     "text": [
      "Initialized\n",
      "+++++++++++++++Running the 0 epoch+++++++++++++\n",
      "Minibatch loss at end epoch 0: 0.021770\n",
      "Minibatch accuracy: 100.0%\n",
      "Validation accuracy: 96.7%\n",
      "+++++++++++++++++++++++++++++++++++++++++++++++\n",
      "+++++++++++++++Running the 1 epoch+++++++++++++\n",
      "Minibatch loss at end epoch 1: 0.119963\n",
      "Minibatch accuracy: 100.0%\n",
      "Validation accuracy: 97.5%\n",
      "+++++++++++++++++++++++++++++++++++++++++++++++\n",
      "+++++++++++++++Running the 2 epoch+++++++++++++\n",
      "Minibatch loss at end epoch 2: 0.020681\n",
      "Minibatch accuracy: 100.0%\n",
      "Validation accuracy: 98.2%\n",
      "+++++++++++++++++++++++++++++++++++++++++++++++\n",
      "+++++++++++++++Running the 3 epoch+++++++++++++\n",
      "Minibatch loss at end epoch 3: 0.043843\n",
      "Minibatch accuracy: 100.0%\n",
      "Validation accuracy: 98.2%\n",
      "+++++++++++++++++++++++++++++++++++++++++++++++\n",
      "+++++++++++++++Running the 4 epoch+++++++++++++\n",
      "Minibatch loss at end epoch 4: 0.012804\n",
      "Minibatch accuracy: 100.0%\n",
      "Validation accuracy: 98.5%\n",
      "+++++++++++++++++++++++++++++++++++++++++++++++\n",
      "+++++++++++++++Running the 5 epoch+++++++++++++\n",
      "Minibatch loss at end epoch 5: 0.015078\n",
      "Minibatch accuracy: 100.0%\n",
      "Validation accuracy: 98.0%\n",
      "+++++++++++++++++++++++++++++++++++++++++++++++\n",
      "+++++++++++++++Running the 6 epoch+++++++++++++\n",
      "Minibatch loss at end epoch 6: 0.012984\n",
      "Minibatch accuracy: 100.0%\n",
      "Validation accuracy: 98.6%\n",
      "+++++++++++++++++++++++++++++++++++++++++++++++\n",
      "+++++++++++++++Running the 7 epoch+++++++++++++\n",
      "Minibatch loss at end epoch 7: 0.012323\n",
      "Minibatch accuracy: 100.0%\n",
      "Validation accuracy: 98.6%\n",
      "+++++++++++++++++++++++++++++++++++++++++++++++\n",
      "+++++++++++++++Running the 8 epoch+++++++++++++\n",
      "Minibatch loss at end epoch 8: 0.013056\n",
      "Minibatch accuracy: 100.0%\n",
      "Validation accuracy: 98.7%\n",
      "+++++++++++++++++++++++++++++++++++++++++++++++\n",
      "+++++++++++++++Running the 9 epoch+++++++++++++\n",
      "Minibatch loss at end epoch 9: 0.013089\n",
      "Minibatch accuracy: 100.0%\n",
      "Validation accuracy: 98.5%\n",
      "+++++++++++++++++++++++++++++++++++++++++++++++\n",
      "+++++++++++++++Running the 10 epoch+++++++++++++\n",
      "Minibatch loss at end epoch 10: 0.012985\n",
      "Minibatch accuracy: 100.0%\n",
      "Validation accuracy: 98.6%\n",
      "+++++++++++++++++++++++++++++++++++++++++++++++\n"
     ]
    }
   ],
   "source": [
    "num_steps = 2101\n",
    "np.random.seed(42)\n",
    "\n",
    "\n",
    "with tf.Session(graph=graph) as session:\n",
    "  tf.global_variables_initializer().run()\n",
    "  print('Initialized')\n",
    "  epoch = 11\n",
    "  idx = np.arange(len(train_data))\n",
    "  ii = 1\n",
    "  X_tograph = []\n",
    "  y_tograph = []\n",
    "  for ii in range(epoch):\n",
    "    #print(\"+++++++++++++++++++++++++++++++++++++++++++++++\")\n",
    "    np.random.shuffle(idx)\n",
    "    train_datas = train_data[idx,:,:,:]\n",
    "    train_labels = train_label[idx,:]\n",
    "    for step in range(num_steps):\n",
    "      offset = (step * batch_size) % (train_labels.shape[0] - batch_size)\n",
    "      batch_data = train_datas[offset:(offset + batch_size), :, :, :]\n",
    "      batch_labels = train_labels[offset:(offset + batch_size), :]\n",
    "      feed_dict = {tf_train_dataset : batch_data, tf_train_labels : batch_labels}\n",
    "      _, l, predictions = session.run(\n",
    "        [optimizer, loss, train_prediction], feed_dict=feed_dict)\n",
    "    #if (ii % 10 == 0):\n",
    "    print('+++++++++++++++Running the {} epoch+++++++++++++'.format(ii))  \n",
    "    print('Minibatch loss at end epoch %d: %f' % (ii, l))\n",
    "    print('Minibatch accuracy: %.1f%%' % accuracy(predictions, batch_labels))\n",
    "    print('Validation accuracy: %.1f%%' % accuracy(\n",
    "            valid_prediction.eval(), valid_label))\n",
    "    print(\"+++++++++++++++++++++++++++++++++++++++++++++++\")\n",
    "    X_tograph.append(ii)\n",
    "    y_tograph.append(accuracy(valid_prediction.eval(), valid_label))\n",
    "  #save_path = saver.save(session, \"/tmp/DR_model_adam.ckpt\")\n",
    "  #print('Test accuracy: %.1f%%' % accuracy(test_prediction.eval(), test_labels))\n",
    "  result = test_prediction.eval()"
   ]
  },
  {
   "cell_type": "code",
   "execution_count": 20,
   "metadata": {},
   "outputs": [
    {
     "name": "stdout",
     "output_type": "stream",
     "text": [
      "1.13.1\n"
     ]
    }
   ],
   "source": [
    "print(tf.__version__)"
   ]
  },
  {
   "cell_type": "code",
   "execution_count": 33,
   "metadata": {},
   "outputs": [
    {
     "data": {
      "image/png": "[encoded data removed]",
      "text/plain": [
       "<Figure size 432x288 with 1 Axes>"
      ]
     },
     "metadata": {
      "needs_background": "dark"
     },
     "output_type": "display_data"
    }
   ],
   "source": [
    "%matplotlib inline\n",
    "fig = plt.figure()\n",
    "\n",
    "ax = fig.add_subplot(111)\n",
    "ax.plot(X_tograph, y_tograph)\n",
    "ax.set_xlabel(\"Epoch\")\n",
    "ax.set_ylabel(\"Validation Accuracy\")\n",
    "ax.set_ylim((0,100))\n",
    "\n",
    "ax.xaxis.label.set_color('white')\n",
    "ax.yaxis.label.set_color('white')\n",
    "ax.tick_params(axis='x', colors='white')\n",
    "ax.tick_params(axis='y', colors='white')\n",
    "\n",
    "plt.show()"
   ]
  },
  {
   "cell_type": "code",
   "execution_count": 35,
   "metadata": {},
   "outputs": [
    {
     "name": "stdout",
     "output_type": "stream",
     "text": [
      "   ImageId  Label\n",
      "0        1      2\n",
      "1        2      0\n",
      "2        3      9\n",
      "3        4      9\n",
      "4        5      3\n"
     ]
    }
   ],
   "source": [
    "def getitem(a):\n",
    "    return max(range(len(a)),key=a.__getitem__)\n",
    "\n",
    "a = getitem(result[0])\n",
    "res = [getitem(result[ii]) for ii in range(len(result))]\n",
    "idd = np.arange(1,len(res)+1)\n",
    "\n",
    "df_res = pd.DataFrame()\n",
    "df_res['ImageId']= idd\n",
    "df_res['Label']=res\n",
    "print(df_res.head())\n",
    "df_res.to_csv(\"DR_submission_jimmy_jiang4.csv\",index=False)"
   ]
  },
  {
   "cell_type": "code",
   "execution_count": null,
   "metadata": {},
   "outputs": [],
   "source": []
  },
  {
   "cell_type": "code",
   "execution_count": null,
   "metadata": {},
   "outputs": [],
   "source": []
  }
 ],
 "metadata": {
  "kernelspec": {
   "display_name": "Python 3",
   "language": "python",
   "name": "python3"
  },
  "language_info": {
   "codemirror_mode": {
    "name": "ipython",
    "version": 3
   },
   "file_extension": ".py",
   "mimetype": "text/x-python",
   "name": "python",
   "nbconvert_exporter": "python",
   "pygments_lexer": "ipython3",
   "version": "3.7.1"
  }
 },
 "nbformat": 4,
 "nbformat_minor": 2
}
